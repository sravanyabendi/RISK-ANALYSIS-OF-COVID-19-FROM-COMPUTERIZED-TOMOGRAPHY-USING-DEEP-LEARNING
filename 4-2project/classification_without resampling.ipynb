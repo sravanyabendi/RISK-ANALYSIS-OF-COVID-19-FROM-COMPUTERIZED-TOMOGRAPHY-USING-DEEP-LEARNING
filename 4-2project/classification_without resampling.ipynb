{
 "cells": [
  {
   "cell_type": "code",
   "execution_count": 1,
   "id": "185b55bf",
   "metadata": {},
   "outputs": [],
   "source": [
    "import tensorflow as tf\n",
    "from tensorflow.keras.models import Sequential,Model\n",
    "from tensorflow.keras.layers import Conv2D,MaxPooling2D,Dense,Flatten\n",
    "import pickle\n",
    "import numpy as np\n",
    "import seaborn as sns\n",
    "import matplotlib.pyplot as plt"
   ]
  },
  {
   "cell_type": "code",
   "execution_count": null,
   "id": "a42ce0ef",
   "metadata": {},
   "outputs": [],
   "source": []
  },
  {
   "cell_type": "code",
   "execution_count": 2,
   "id": "b8b8eea6",
   "metadata": {},
   "outputs": [],
   "source": [
    "Xtrain=pickle.load(open('Xtrain','rb'))\n",
    "Ytrain=pickle.load(open('Ytrain','rb'))\n",
    "Xtest=pickle.load(open('Xtest','rb'))\n",
    "Ytest=pickle.load(open('Ytest','rb'))"
   ]
  },
  {
   "cell_type": "code",
   "execution_count": 3,
   "id": "8305b915",
   "metadata": {},
   "outputs": [
    {
     "data": {
      "text/plain": [
       "array([[[[ 68,  68,  68],\n",
       "         [ 68,  68,  68],\n",
       "         [ 68,  68,  68],\n",
       "         ...,\n",
       "         [ 68,  68,  68],\n",
       "         [ 68,  68,  68],\n",
       "         [ 68,  68,  68]],\n",
       "\n",
       "        [[ 68,  68,  68],\n",
       "         [ 68,  68,  68],\n",
       "         [ 68,  68,  68],\n",
       "         ...,\n",
       "         [ 68,  68,  68],\n",
       "         [ 68,  68,  68],\n",
       "         [ 68,  68,  68]],\n",
       "\n",
       "        [[ 68,  68,  68],\n",
       "         [ 68,  68,  68],\n",
       "         [ 68,  68,  68],\n",
       "         ...,\n",
       "         [ 68,  68,  68],\n",
       "         [ 68,  68,  68],\n",
       "         [ 68,  68,  68]],\n",
       "\n",
       "        ...,\n",
       "\n",
       "        [[ 68,  68,  68],\n",
       "         [ 69,  69,  69],\n",
       "         [140, 140, 140],\n",
       "         ...,\n",
       "         [ 68,  68,  68],\n",
       "         [ 68,  68,  68],\n",
       "         [ 68,  68,  68]],\n",
       "\n",
       "        [[ 68,  68,  68],\n",
       "         [ 69,  69,  69],\n",
       "         [ 69,  69,  69],\n",
       "         ...,\n",
       "         [ 68,  68,  68],\n",
       "         [ 68,  68,  68],\n",
       "         [ 68,  68,  68]],\n",
       "\n",
       "        [[ 68,  68,  68],\n",
       "         [ 70,  70,  70],\n",
       "         [ 69,  69,  69],\n",
       "         ...,\n",
       "         [ 69,  69,  69],\n",
       "         [ 68,  68,  68],\n",
       "         [ 68,  68,  68]]],\n",
       "\n",
       "\n",
       "       [[[251, 251, 251],\n",
       "         [255, 255, 255],\n",
       "         [254, 254, 254],\n",
       "         ...,\n",
       "         [255, 255, 255],\n",
       "         [252, 252, 252],\n",
       "         [251, 251, 251]],\n",
       "\n",
       "        [[253, 253, 253],\n",
       "         [197, 197, 197],\n",
       "         [ 51,  51,  51],\n",
       "         ...,\n",
       "         [186, 186, 186],\n",
       "         [248, 248, 248],\n",
       "         [251, 251, 251]],\n",
       "\n",
       "        [[254, 254, 254],\n",
       "         [202, 202, 202],\n",
       "         [ 49,  49,  49],\n",
       "         ...,\n",
       "         [195, 195, 195],\n",
       "         [255, 255, 255],\n",
       "         [254, 254, 254]],\n",
       "\n",
       "        ...,\n",
       "\n",
       "        [[255, 255, 255],\n",
       "         [255, 255, 255],\n",
       "         [255, 255, 255],\n",
       "         ...,\n",
       "         [255, 255, 255],\n",
       "         [255, 255, 255],\n",
       "         [255, 255, 255]],\n",
       "\n",
       "        [[255, 255, 255],\n",
       "         [255, 255, 255],\n",
       "         [255, 255, 255],\n",
       "         ...,\n",
       "         [255, 255, 255],\n",
       "         [255, 255, 255],\n",
       "         [255, 255, 255]],\n",
       "\n",
       "        [[255, 255, 255],\n",
       "         [255, 255, 255],\n",
       "         [255, 255, 255],\n",
       "         ...,\n",
       "         [255, 255, 255],\n",
       "         [255, 255, 255],\n",
       "         [255, 255, 255]]],\n",
       "\n",
       "\n",
       "       [[[  2,   2,   2],\n",
       "         [  4,   4,   4],\n",
       "         [  3,   3,   3],\n",
       "         ...,\n",
       "         [  1,   1,   1],\n",
       "         [  2,   2,   2],\n",
       "         [  2,   2,   2]],\n",
       "\n",
       "        [[  2,   2,   2],\n",
       "         [  4,   4,   4],\n",
       "         [  1,   1,   1],\n",
       "         ...,\n",
       "         [  3,   3,   3],\n",
       "         [  2,   2,   2],\n",
       "         [  2,   2,   2]],\n",
       "\n",
       "        [[  2,   2,   2],\n",
       "         [  2,   2,   2],\n",
       "         [  2,   2,   2],\n",
       "         ...,\n",
       "         [  2,   2,   2],\n",
       "         [  2,   2,   2],\n",
       "         [  1,   1,   1]],\n",
       "\n",
       "        ...,\n",
       "\n",
       "        [[  3,   3,   3],\n",
       "         [  1,   1,   1],\n",
       "         [  2,   2,   2],\n",
       "         ...,\n",
       "         [  2,   2,   2],\n",
       "         [  2,   2,   2],\n",
       "         [  2,   2,   2]],\n",
       "\n",
       "        [[  1,   1,   1],\n",
       "         [  2,   2,   2],\n",
       "         [  3,   3,   3],\n",
       "         ...,\n",
       "         [  2,   2,   2],\n",
       "         [  1,   1,   1],\n",
       "         [  2,   2,   2]],\n",
       "\n",
       "        [[  2,   2,   2],\n",
       "         [  2,   2,   2],\n",
       "         [  2,   2,   2],\n",
       "         ...,\n",
       "         [  2,   2,   2],\n",
       "         [  2,   2,   2],\n",
       "         [  2,   2,   2]]],\n",
       "\n",
       "\n",
       "       ...,\n",
       "\n",
       "\n",
       "       [[[  2,   2,   2],\n",
       "         [  2,   2,   2],\n",
       "         [  2,   2,   2],\n",
       "         ...,\n",
       "         [  2,   2,   2],\n",
       "         [  2,   2,   2],\n",
       "         [  2,   2,   2]],\n",
       "\n",
       "        [[  2,   2,   2],\n",
       "         [  2,   2,   2],\n",
       "         [  2,   2,   2],\n",
       "         ...,\n",
       "         [  2,   2,   2],\n",
       "         [  2,   2,   2],\n",
       "         [  2,   2,   2]],\n",
       "\n",
       "        [[  2,   2,   2],\n",
       "         [  2,   2,   2],\n",
       "         [  2,   2,   2],\n",
       "         ...,\n",
       "         [  2,   2,   2],\n",
       "         [  2,   2,   2],\n",
       "         [  2,   2,   2]],\n",
       "\n",
       "        ...,\n",
       "\n",
       "        [[  2,   2,   2],\n",
       "         [  2,   2,   2],\n",
       "         [  2,   2,   2],\n",
       "         ...,\n",
       "         [  2,   2,   2],\n",
       "         [  2,   2,   2],\n",
       "         [  2,   2,   2]],\n",
       "\n",
       "        [[  2,   2,   2],\n",
       "         [  2,   2,   2],\n",
       "         [  2,   2,   2],\n",
       "         ...,\n",
       "         [  2,   2,   2],\n",
       "         [  2,   2,   2],\n",
       "         [  2,   2,   2]],\n",
       "\n",
       "        [[  2,   2,   2],\n",
       "         [  2,   2,   2],\n",
       "         [  2,   2,   2],\n",
       "         ...,\n",
       "         [  2,   2,   2],\n",
       "         [  2,   2,   2],\n",
       "         [  2,   2,   2]]],\n",
       "\n",
       "\n",
       "       [[[144, 146, 146],\n",
       "         [168, 170, 170],\n",
       "         [197, 199, 199],\n",
       "         ...,\n",
       "         [ 68,  68,  68],\n",
       "         [ 76,  74,  74],\n",
       "         [ 81,  79,  79]],\n",
       "\n",
       "        [[179, 181, 181],\n",
       "         [204, 206, 206],\n",
       "         [218, 220, 220],\n",
       "         ...,\n",
       "         [ 67,  67,  67],\n",
       "         [ 67,  65,  65],\n",
       "         [ 68,  66,  66]],\n",
       "\n",
       "        [[209, 210, 210],\n",
       "         [217, 219, 219],\n",
       "         [210, 213, 213],\n",
       "         ...,\n",
       "         [102, 102, 102],\n",
       "         [ 67,  65,  65],\n",
       "         [ 63,  61,  61]],\n",
       "\n",
       "        ...,\n",
       "\n",
       "        [[236, 236, 236],\n",
       "         [226, 226, 226],\n",
       "         [221, 221, 221],\n",
       "         ...,\n",
       "         [ 69,  69,  69],\n",
       "         [ 74,  73,  75],\n",
       "         [ 73,  72,  75]],\n",
       "\n",
       "        [[239, 239, 239],\n",
       "         [235, 235, 235],\n",
       "         [230, 230, 230],\n",
       "         ...,\n",
       "         [ 74,  75,  73],\n",
       "         [ 74,  76,  76],\n",
       "         [ 75,  77,  77]],\n",
       "\n",
       "        [[233, 233, 233],\n",
       "         [237, 237, 237],\n",
       "         [238, 238, 238],\n",
       "         ...,\n",
       "         [ 82,  83,  81],\n",
       "         [ 80,  82,  82],\n",
       "         [ 81,  83,  83]]],\n",
       "\n",
       "\n",
       "       [[[  0,   0,   0],\n",
       "         [  0,   0,   0],\n",
       "         [  0,   0,   0],\n",
       "         ...,\n",
       "         [  0,   0,   0],\n",
       "         [  0,   0,   0],\n",
       "         [  0,   0,   0]],\n",
       "\n",
       "        [[  0,   0,   0],\n",
       "         [  0,   0,   0],\n",
       "         [  0,   0,   0],\n",
       "         ...,\n",
       "         [  0,   0,   0],\n",
       "         [  0,   0,   0],\n",
       "         [  0,   0,   0]],\n",
       "\n",
       "        [[  0,   0,   0],\n",
       "         [  0,   0,   0],\n",
       "         [  0,   0,   0],\n",
       "         ...,\n",
       "         [  0,   0,   0],\n",
       "         [  0,   0,   0],\n",
       "         [  0,   0,   0]],\n",
       "\n",
       "        ...,\n",
       "\n",
       "        [[  0,   0,   0],\n",
       "         [  0,   0,   0],\n",
       "         [  0,   0,   0],\n",
       "         ...,\n",
       "         [  0,   0,   0],\n",
       "         [  0,   0,   0],\n",
       "         [  0,   0,   0]],\n",
       "\n",
       "        [[  0,   0,   0],\n",
       "         [  0,   0,   0],\n",
       "         [  0,   0,   0],\n",
       "         ...,\n",
       "         [  0,   0,   0],\n",
       "         [  0,   0,   0],\n",
       "         [  0,   0,   0]],\n",
       "\n",
       "        [[  0,   0,   0],\n",
       "         [  0,   0,   0],\n",
       "         [  0,   0,   0],\n",
       "         ...,\n",
       "         [  0,   0,   0],\n",
       "         [  0,   0,   0],\n",
       "         [  0,   0,   0]]]], dtype=uint8)"
      ]
     },
     "execution_count": 3,
     "metadata": {},
     "output_type": "execute_result"
    }
   ],
   "source": [
    "from tensorflow.keras.utils import to_categorical as toc\n",
    "ytrain_one=toc(Ytrain)\n",
    "ytest_one=toc(Ytest)\n",
    "Xtrain"
   ]
  },
  {
   "cell_type": "code",
   "execution_count": 4,
   "id": "268a40ce",
   "metadata": {},
   "outputs": [
    {
     "name": "stdout",
     "output_type": "stream",
     "text": [
      "[[0. 1.]\n",
      " [0. 1.]\n",
      " [0. 1.]\n",
      " ...\n",
      " [0. 1.]\n",
      " [1. 0.]\n",
      " [1. 0.]]\n"
     ]
    }
   ],
   "source": [
    "print(ytrain_one)"
   ]
  },
  {
   "cell_type": "code",
   "execution_count": 5,
   "id": "08ac0bf6",
   "metadata": {},
   "outputs": [
    {
     "name": "stdout",
     "output_type": "stream",
     "text": [
      "[1 1 1 ... 1 0 0]\n"
     ]
    }
   ],
   "source": [
    "print(Ytrain)"
   ]
  },
  {
   "cell_type": "code",
   "execution_count": null,
   "id": "0a1ac92c",
   "metadata": {},
   "outputs": [],
   "source": []
  },
  {
   "cell_type": "code",
   "execution_count": 6,
   "id": "1d9d2059",
   "metadata": {},
   "outputs": [
    {
     "name": "stdout",
     "output_type": "stream",
     "text": [
      "(9484, 128, 128, 3) (9484,) (2372, 128, 128, 3) (2372,)\n"
     ]
    }
   ],
   "source": [
    "print(Xtrain.shape,Ytrain.shape,Xtest.shape,Ytest.shape)\n",
    "inputshape=Xtrain.shape[1:]"
   ]
  },
  {
   "cell_type": "markdown",
   "id": "7847e481",
   "metadata": {},
   "source": [
    "# LENET 5"
   ]
  },
  {
   "cell_type": "code",
   "execution_count": 7,
   "id": "e5fe6ce9",
   "metadata": {},
   "outputs": [],
   "source": [
    "def Lenet5():\n",
    "    feature=Sequential()\n",
    "    \n",
    "    feature.add(Conv2D(4,(5,5),strides=1,input_shape=inputshape,kernel_initializer='he_uniform',activation=\"sigmoid\"))\n",
    "    feature.add(MaxPooling2D((2,2),strides=2))\n",
    "    \n",
    "    feature.add(Conv2D(6,(5,5),strides=1,activation=\"sigmoid\"))\n",
    "    feature.add(MaxPooling2D((2,2),strides=2))\n",
    "    \n",
    "    feature.add(Conv2D(6,(5,5),strides=1,activation=\"sigmoid\"))\n",
    "    feature.add(MaxPooling2D((2,2),strides=2))\n",
    "    \n",
    "    feature.add(Flatten())\n",
    "\n",
    "    \n",
    "    return feature"
   ]
  },
  {
   "cell_type": "code",
   "execution_count": 8,
   "id": "571a2d15",
   "metadata": {},
   "outputs": [
    {
     "name": "stdout",
     "output_type": "stream",
     "text": [
      "Model: \"sequential\"\n",
      "_________________________________________________________________\n",
      " Layer (type)                Output Shape              Param #   \n",
      "=================================================================\n",
      " conv2d (Conv2D)             (None, 124, 124, 4)       304       \n",
      "                                                                 \n",
      " max_pooling2d (MaxPooling2D  (None, 62, 62, 4)        0         \n",
      " )                                                               \n",
      "                                                                 \n",
      " conv2d_1 (Conv2D)           (None, 58, 58, 6)         606       \n",
      "                                                                 \n",
      " max_pooling2d_1 (MaxPooling  (None, 29, 29, 6)        0         \n",
      " 2D)                                                             \n",
      "                                                                 \n",
      " conv2d_2 (Conv2D)           (None, 25, 25, 6)         906       \n",
      "                                                                 \n",
      " max_pooling2d_2 (MaxPooling  (None, 12, 12, 6)        0         \n",
      " 2D)                                                             \n",
      "                                                                 \n",
      " flatten (Flatten)           (None, 864)               0         \n",
      "                                                                 \n",
      "=================================================================\n",
      "Total params: 1,816\n",
      "Trainable params: 1,816\n",
      "Non-trainable params: 0\n",
      "_________________________________________________________________\n"
     ]
    }
   ],
   "source": [
    "d=Lenet5()\n",
    "d.summary()"
   ]
  },
  {
   "cell_type": "code",
   "execution_count": 9,
   "id": "aba02f23",
   "metadata": {},
   "outputs": [],
   "source": [
    "paramx=d.output\n",
    "paramy=Dense(120,activation=\"sigmoid\")(paramx)\n",
    "\n",
    "output=Dense(2,activation=\"softmax\")(paramy)"
   ]
  },
  {
   "cell_type": "code",
   "execution_count": 10,
   "id": "e1d0e9ca",
   "metadata": {},
   "outputs": [
    {
     "name": "stdout",
     "output_type": "stream",
     "text": [
      "Model: \"model\"\n",
      "_________________________________________________________________\n",
      " Layer (type)                Output Shape              Param #   \n",
      "=================================================================\n",
      " conv2d_input (InputLayer)   [(None, 128, 128, 3)]     0         \n",
      "                                                                 \n",
      " conv2d (Conv2D)             (None, 124, 124, 4)       304       \n",
      "                                                                 \n",
      " max_pooling2d (MaxPooling2D  (None, 62, 62, 4)        0         \n",
      " )                                                               \n",
      "                                                                 \n",
      " conv2d_1 (Conv2D)           (None, 58, 58, 6)         606       \n",
      "                                                                 \n",
      " max_pooling2d_1 (MaxPooling  (None, 29, 29, 6)        0         \n",
      " 2D)                                                             \n",
      "                                                                 \n",
      " conv2d_2 (Conv2D)           (None, 25, 25, 6)         906       \n",
      "                                                                 \n",
      " max_pooling2d_2 (MaxPooling  (None, 12, 12, 6)        0         \n",
      " 2D)                                                             \n",
      "                                                                 \n",
      " flatten (Flatten)           (None, 864)               0         \n",
      "                                                                 \n",
      " dense (Dense)               (None, 120)               103800    \n",
      "                                                                 \n",
      " dense_1 (Dense)             (None, 2)                 242       \n",
      "                                                                 \n",
      "=================================================================\n",
      "Total params: 105,858\n",
      "Trainable params: 105,858\n",
      "Non-trainable params: 0\n",
      "_________________________________________________________________\n"
     ]
    }
   ],
   "source": [
    "Lenet5=Model(inputs=d.input,outputs=output)\n",
    "Lenet5.summary()"
   ]
  },
  {
   "cell_type": "code",
   "execution_count": 11,
   "id": "cac0e355",
   "metadata": {
    "scrolled": true
   },
   "outputs": [
    {
     "name": "stdout",
     "output_type": "stream",
     "text": [
      "Epoch 1/30\n",
      "80/80 [==============================] - 140s 210ms/step - loss: 0.6287 - accuracy: 0.6333 - val_loss: 0.4691 - val_accuracy: 0.7989\n",
      "Epoch 2/30\n",
      "80/80 [==============================] - 15s 179ms/step - loss: 0.4380 - accuracy: 0.7959 - val_loss: 0.3982 - val_accuracy: 0.8390\n",
      "Epoch 3/30\n",
      "80/80 [==============================] - 14s 180ms/step - loss: 0.3758 - accuracy: 0.8269 - val_loss: 0.3443 - val_accuracy: 0.8457\n",
      "Epoch 4/30\n",
      "80/80 [==============================] - 15s 184ms/step - loss: 0.3313 - accuracy: 0.8504 - val_loss: 0.3148 - val_accuracy: 0.8546\n",
      "Epoch 5/30\n",
      "80/80 [==============================] - 15s 183ms/step - loss: 0.3058 - accuracy: 0.8598 - val_loss: 0.3106 - val_accuracy: 0.8554\n",
      "Epoch 6/30\n",
      "80/80 [==============================] - 15s 183ms/step - loss: 0.2875 - accuracy: 0.8720 - val_loss: 0.2721 - val_accuracy: 0.8769\n",
      "Epoch 7/30\n",
      "80/80 [==============================] - 15s 183ms/step - loss: 0.2697 - accuracy: 0.8837 - val_loss: 0.2698 - val_accuracy: 0.8879\n",
      "Epoch 8/30\n",
      "80/80 [==============================] - 15s 183ms/step - loss: 0.2604 - accuracy: 0.8870 - val_loss: 0.2452 - val_accuracy: 0.8904\n",
      "Epoch 9/30\n",
      "80/80 [==============================] - 15s 183ms/step - loss: 0.2427 - accuracy: 0.8977 - val_loss: 0.2428 - val_accuracy: 0.8921\n",
      "Epoch 10/30\n",
      "80/80 [==============================] - 15s 183ms/step - loss: 0.2382 - accuracy: 0.8984 - val_loss: 0.2444 - val_accuracy: 0.8976\n",
      "Epoch 11/30\n",
      "80/80 [==============================] - 15s 184ms/step - loss: 0.2338 - accuracy: 0.8993 - val_loss: 0.2658 - val_accuracy: 0.8782\n",
      "Epoch 12/30\n",
      "80/80 [==============================] - 15s 183ms/step - loss: 0.2247 - accuracy: 0.9070 - val_loss: 0.2181 - val_accuracy: 0.9081\n",
      "Epoch 13/30\n",
      "80/80 [==============================] - 15s 183ms/step - loss: 0.2207 - accuracy: 0.9050 - val_loss: 0.2037 - val_accuracy: 0.9123\n",
      "Epoch 14/30\n",
      "80/80 [==============================] - 15s 183ms/step - loss: 0.2017 - accuracy: 0.9155 - val_loss: 0.2388 - val_accuracy: 0.8971\n",
      "Epoch 15/30\n",
      "80/80 [==============================] - 15s 183ms/step - loss: 0.1973 - accuracy: 0.9177 - val_loss: 0.1890 - val_accuracy: 0.9174\n",
      "Epoch 16/30\n",
      "80/80 [==============================] - 15s 184ms/step - loss: 0.1870 - accuracy: 0.9213 - val_loss: 0.1935 - val_accuracy: 0.9212\n",
      "Epoch 17/30\n",
      "80/80 [==============================] - 15s 183ms/step - loss: 0.1835 - accuracy: 0.9226 - val_loss: 0.1989 - val_accuracy: 0.9115\n",
      "Epoch 18/30\n",
      "80/80 [==============================] - 15s 183ms/step - loss: 0.1747 - accuracy: 0.9258 - val_loss: 0.1953 - val_accuracy: 0.9178\n",
      "Epoch 19/30\n",
      "80/80 [==============================] - 15s 184ms/step - loss: 0.1740 - accuracy: 0.9270 - val_loss: 0.2024 - val_accuracy: 0.9178\n",
      "Epoch 20/30\n",
      "80/80 [==============================] - 15s 184ms/step - loss: 0.1896 - accuracy: 0.9201 - val_loss: 0.2725 - val_accuracy: 0.8714\n",
      "Epoch 21/30\n",
      "80/80 [==============================] - 15s 183ms/step - loss: 0.1764 - accuracy: 0.9245 - val_loss: 0.1616 - val_accuracy: 0.9266\n",
      "Epoch 22/30\n",
      "80/80 [==============================] - 15s 183ms/step - loss: 0.1555 - accuracy: 0.9344 - val_loss: 0.1592 - val_accuracy: 0.9317\n",
      "Epoch 23/30\n",
      "80/80 [==============================] - 15s 183ms/step - loss: 0.1506 - accuracy: 0.9383 - val_loss: 0.1595 - val_accuracy: 0.9338\n",
      "Epoch 24/30\n",
      "80/80 [==============================] - 15s 184ms/step - loss: 0.1498 - accuracy: 0.9363 - val_loss: 0.1506 - val_accuracy: 0.9347\n",
      "Epoch 25/30\n",
      "80/80 [==============================] - 15s 183ms/step - loss: 0.1487 - accuracy: 0.9377 - val_loss: 0.1517 - val_accuracy: 0.9363\n",
      "Epoch 26/30\n",
      "80/80 [==============================] - 15s 183ms/step - loss: 0.1359 - accuracy: 0.9449 - val_loss: 0.1433 - val_accuracy: 0.9431\n",
      "Epoch 27/30\n",
      "80/80 [==============================] - 15s 183ms/step - loss: 0.1344 - accuracy: 0.9430 - val_loss: 0.1434 - val_accuracy: 0.9380\n",
      "Epoch 28/30\n",
      "80/80 [==============================] - 15s 184ms/step - loss: 0.1280 - accuracy: 0.9465 - val_loss: 0.1406 - val_accuracy: 0.9347\n",
      "Epoch 29/30\n",
      "80/80 [==============================] - 15s 183ms/step - loss: 0.1285 - accuracy: 0.9464 - val_loss: 0.1824 - val_accuracy: 0.9212\n",
      "Epoch 30/30\n",
      "80/80 [==============================] - 15s 183ms/step - loss: 0.1362 - accuracy: 0.9425 - val_loss: 0.1343 - val_accuracy: 0.9393\n"
     ]
    }
   ],
   "source": [
    "Lenet5.compile(optimizer=\"Adam\",loss=\"binary_crossentropy\",metrics=[\"accuracy\"])\n",
    "le=Lenet5.fit(Xtrain,ytrain_one,validation_data=(Xtest,ytest_one),epochs=30,batch_size=120)"
   ]
  },
  {
   "cell_type": "code",
   "execution_count": 12,
   "id": "0725c350",
   "metadata": {},
   "outputs": [
    {
     "data": {
      "image/png": "[encoded data removed]",
      "text/plain": [
       "<Figure size 432x288 with 1 Axes>"
      ]
     },
     "metadata": {
      "needs_background": "light"
     },
     "output_type": "display_data"
    }
   ],
   "source": [
    "loss=le.history['loss']\n",
    "val_loss=le.history['val_loss']\n",
    "epochs=range(1,len(loss)+1)\n",
    "plt.plot(epochs,loss,'y',label='Training loss')\n",
    "plt.plot(epochs,val_loss,'r',label='Validation loss')\n",
    "plt.title('Training and validation loss')\n",
    "plt.xlabel('epochs')\n",
    "plt.ylabel('loss')\n",
    "plt.legend()\n",
    "plt.show()"
   ]
  },
  {
   "cell_type": "code",
   "execution_count": 13,
   "id": "934c6f50",
   "metadata": {},
   "outputs": [
    {
     "data": {
      "image/png": "[encoded data removed]",
      "text/plain": [
       "<Figure size 432x288 with 1 Axes>"
      ]
     },
     "metadata": {
      "needs_background": "light"
     },
     "output_type": "display_data"
    }
   ],
   "source": [
    "accuracy=le.history['accuracy']\n",
    "val_accuracy=le.history['val_accuracy']\n",
    "plt.plot(epochs,accuracy,'y',label='Training accuracy')\n",
    "plt.plot(epochs,val_accuracy,'r',label='Validation accuracy')\n",
    "plt.title('Training and validation Accuracy')\n",
    "plt.xlabel('epochs')\n",
    "plt.ylabel('Acc')\n",
    "plt.legend()\n",
    "plt.show()"
   ]
  },
  {
   "cell_type": "code",
   "execution_count": 14,
   "id": "a8d3ee2a",
   "metadata": {},
   "outputs": [
    {
     "name": "stdout",
     "output_type": "stream",
     "text": [
      "[0 1 1 ... 1 0 0]\n"
     ]
    }
   ],
   "source": [
    "predict=Lenet5.predict(Xtest)\n",
    "predict=np.argmax(predict,axis=-1)\n",
    "print(predict)"
   ]
  },
  {
   "cell_type": "markdown",
   "id": "210f33bf",
   "metadata": {},
   "source": [
    "# CONFUSION MATRIX\n"
   ]
  },
  {
   "cell_type": "code",
   "execution_count": 15,
   "id": "b6bf010a",
   "metadata": {},
   "outputs": [
    {
     "data": {
      "text/plain": [
       "<AxesSubplot:>"
      ]
     },
     "execution_count": 15,
     "metadata": {},
     "output_type": "execute_result"
    },
    {
     "data": {
      "image/png": "[encoded data removed]",
      "text/plain": [
       "<Figure size 432x288 with 2 Axes>"
      ]
     },
     "metadata": {
      "needs_background": "light"
     },
     "output_type": "display_data"
    }
   ],
   "source": [
    "from sklearn.metrics import confusion_matrix\n",
    "cm=confusion_matrix(Ytest,predict)\n",
    "sns.heatmap(cm,annot=True,fmt=\"g\")"
   ]
  },
  {
   "cell_type": "code",
   "execution_count": 16,
   "id": "1c12b2fb",
   "metadata": {},
   "outputs": [
    {
     "name": "stdout",
     "output_type": "stream",
     "text": [
      "              precision    recall  f1-score   support\n",
      "\n",
      "           0       0.93      0.96      0.94      1200\n",
      "           1       0.95      0.92      0.94      1172\n",
      "\n",
      "    accuracy                           0.94      2372\n",
      "   macro avg       0.94      0.94      0.94      2372\n",
      "weighted avg       0.94      0.94      0.94      2372\n",
      "\n"
     ]
    }
   ],
   "source": [
    "from sklearn.metrics import classification_report\n",
    "print(classification_report(Ytest,predict))"
   ]
  },
  {
   "cell_type": "markdown",
   "id": "70bdfcdb",
   "metadata": {},
   "source": [
    "# SVM"
   ]
  },
  {
   "cell_type": "code",
   "execution_count": 17,
   "id": "fdcbe456",
   "metadata": {},
   "outputs": [],
   "source": [
    "x_train_f=d.predict(Xtrain)\n",
    "x_test_f=d.predict(Xtest)"
   ]
  },
  {
   "cell_type": "code",
   "execution_count": 18,
   "id": "b156ee57",
   "metadata": {},
   "outputs": [
    {
     "name": "stdout",
     "output_type": "stream",
     "text": [
      "(9484, 864) (2372, 864)\n"
     ]
    }
   ],
   "source": [
    "print(x_train_f.shape,x_test_f.shape)"
   ]
  },
  {
   "cell_type": "code",
   "execution_count": 19,
   "id": "78308175",
   "metadata": {},
   "outputs": [
    {
     "name": "stderr",
     "output_type": "stream",
     "text": [
      "C:\\Users\\sudhakararao\\anaconda3\\envs\\tf2.4\\lib\\site-packages\\sklearn\\svm\\_base.py:1206: ConvergenceWarning: Liblinear failed to converge, increase the number of iterations.\n",
      "  warnings.warn(\n"
     ]
    },
    {
     "data": {
      "text/plain": [
       "LinearSVC(max_iter=100)"
      ]
     },
     "execution_count": 19,
     "metadata": {},
     "output_type": "execute_result"
    }
   ],
   "source": [
    "from sklearn.svm import LinearSVC\n",
    "svmodel=LinearSVC(max_iter=100)\n",
    "svmodel.fit(x_train_f,Ytrain)"
   ]
  },
  {
   "cell_type": "code",
   "execution_count": 20,
   "id": "f93f4cf5",
   "metadata": {},
   "outputs": [],
   "source": [
    "predict_svm=svmodel.predict(x_test_f)"
   ]
  },
  {
   "cell_type": "code",
   "execution_count": 21,
   "id": "abe78b74",
   "metadata": {},
   "outputs": [
    {
     "name": "stdout",
     "output_type": "stream",
     "text": [
      "[0 1 1 ... 1 0 0] [1 1 1 ... 1 0 0]\n"
     ]
    }
   ],
   "source": [
    "print(predict_svm,Ytest)"
   ]
  },
  {
   "cell_type": "code",
   "execution_count": 22,
   "id": "cec28a03",
   "metadata": {},
   "outputs": [
    {
     "name": "stdout",
     "output_type": "stream",
     "text": [
      "0.9190556492411467\n"
     ]
    }
   ],
   "source": [
    "from sklearn import metrics\n",
    "print(metrics.accuracy_score(Ytest,predict_svm))"
   ]
  },
  {
   "cell_type": "code",
   "execution_count": 23,
   "id": "38c6074d",
   "metadata": {},
   "outputs": [
    {
     "data": {
      "text/plain": [
       "<AxesSubplot:>"
      ]
     },
     "execution_count": 23,
     "metadata": {},
     "output_type": "execute_result"
    },
    {
     "data": {
      "image/png": "[encoded data removed]",
      "text/plain": [
       "<Figure size 432x288 with 2 Axes>"
      ]
     },
     "metadata": {
      "needs_background": "light"
     },
     "output_type": "display_data"
    }
   ],
   "source": [
    "from sklearn.metrics import confusion_matrix\n",
    "cm=confusion_matrix(Ytest,predict_svm)\n",
    "sns.heatmap(cm,annot=True,fmt=\"g\")"
   ]
  },
  {
   "cell_type": "code",
   "execution_count": 24,
   "id": "fcd4ec70",
   "metadata": {},
   "outputs": [
    {
     "name": "stdout",
     "output_type": "stream",
     "text": [
      "              precision    recall  f1-score   support\n",
      "\n",
      "           0       0.90      0.95      0.92      1200\n",
      "           1       0.94      0.89      0.92      1172\n",
      "\n",
      "    accuracy                           0.92      2372\n",
      "   macro avg       0.92      0.92      0.92      2372\n",
      "weighted avg       0.92      0.92      0.92      2372\n",
      "\n"
     ]
    }
   ],
   "source": [
    "from sklearn.metrics import classification_report\n",
    "print(classification_report(Ytest,predict_svm))"
   ]
  },
  {
   "cell_type": "markdown",
   "id": "56006cba",
   "metadata": {},
   "source": [
    "# RANDOM FOREST"
   ]
  },
  {
   "cell_type": "code",
   "execution_count": 25,
   "id": "504ac98e",
   "metadata": {},
   "outputs": [
    {
     "data": {
      "text/plain": [
       "RandomForestClassifier(n_estimators=10, random_state=300)"
      ]
     },
     "execution_count": 25,
     "metadata": {},
     "output_type": "execute_result"
    }
   ],
   "source": [
    "from sklearn.ensemble import RandomForestClassifier\n",
    "RFmodel = RandomForestClassifier(n_estimators=10, random_state=300)\n",
    "RFmodel.fit(x_train_f,Ytrain)"
   ]
  },
  {
   "cell_type": "code",
   "execution_count": 26,
   "id": "74063f68",
   "metadata": {},
   "outputs": [],
   "source": [
    "predict_RF=RFmodel.predict(x_test_f)"
   ]
  },
  {
   "cell_type": "code",
   "execution_count": 27,
   "id": "7fa2ce60",
   "metadata": {},
   "outputs": [
    {
     "name": "stdout",
     "output_type": "stream",
     "text": [
      "0.943929173693086\n"
     ]
    }
   ],
   "source": [
    "from sklearn import metrics\n",
    "print(metrics.accuracy_score(Ytest,predict_RF))"
   ]
  },
  {
   "cell_type": "code",
   "execution_count": 28,
   "id": "1f299b30",
   "metadata": {},
   "outputs": [
    {
     "data": {
      "text/plain": [
       "<AxesSubplot:>"
      ]
     },
     "execution_count": 28,
     "metadata": {},
     "output_type": "execute_result"
    },
    {
     "data": {
      "image/png": "[encoded data removed]",
      "text/plain": [
       "<Figure size 432x288 with 2 Axes>"
      ]
     },
     "metadata": {
      "needs_background": "light"
     },
     "output_type": "display_data"
    }
   ],
   "source": [
    "from sklearn.metrics import confusion_matrix\n",
    "cm=confusion_matrix(Ytest,predict_RF)\n",
    "sns.heatmap(cm,annot=True,fmt=\"g\")"
   ]
  },
  {
   "cell_type": "code",
   "execution_count": 29,
   "id": "c81b06f5",
   "metadata": {},
   "outputs": [
    {
     "name": "stdout",
     "output_type": "stream",
     "text": [
      "              precision    recall  f1-score   support\n",
      "\n",
      "           0       0.95      0.94      0.94      1200\n",
      "           1       0.94      0.95      0.94      1172\n",
      "\n",
      "    accuracy                           0.94      2372\n",
      "   macro avg       0.94      0.94      0.94      2372\n",
      "weighted avg       0.94      0.94      0.94      2372\n",
      "\n"
     ]
    }
   ],
   "source": [
    "from sklearn.metrics import classification_report\n",
    "print(classification_report(Ytest,predict_RF))"
   ]
  },
  {
   "cell_type": "code",
   "execution_count": null,
   "id": "99900d98",
   "metadata": {},
   "outputs": [],
   "source": []
  }
 ],
 "metadata": {
  "kernelspec": {
   "display_name": "Python 3 (ipykernel)",
   "language": "python",
   "name": "python3"
  },
  "language_info": {
   "codemirror_mode": {
    "name": "ipython",
    "version": 3
   },
   "file_extension": ".py",
   "mimetype": "text/x-python",
   "name": "python",
   "nbconvert_exporter": "python",
   "pygments_lexer": "ipython3",
   "version": "3.8.0"
  }
 },
 "nbformat": 4,
 "nbformat_minor": 5
}
